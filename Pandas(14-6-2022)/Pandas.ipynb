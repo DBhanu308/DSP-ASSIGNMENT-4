{
 "cells": [
  {
   "cell_type": "code",
   "execution_count": 8,
   "id": "86444894",
   "metadata": {},
   "outputs": [
    {
     "name": "stdout",
     "output_type": "stream",
     "text": [
      "1.4.2\n"
     ]
    }
   ],
   "source": [
    "import pandas as pd\n",
    "print(pd.__version__)"
   ]
  },
  {
   "cell_type": "code",
   "execution_count": 9,
   "id": "40cb7372",
   "metadata": {},
   "outputs": [],
   "source": [
    "#pandas is an python library used to analyze data\n",
    "#here we are working with datasets ,analyzing,manipulating and exploring datasets\n",
    "#with pandas we can work with large data\n",
    "#why we use?\n",
    "#to say corelation between two columns,min ,max values from columns"
   ]
  },
  {
   "cell_type": "code",
   "execution_count": 10,
   "id": "acceb434",
   "metadata": {},
   "outputs": [
    {
     "name": "stdout",
     "output_type": "stream",
     "text": [
      "0    1\n",
      "1    0\n",
      "2    4\n",
      "3    8\n",
      "4    3\n",
      "dtype: int64\n"
     ]
    }
   ],
   "source": [
    "#series-1-D arrays\n",
    "a=[1,0,4,8,3]\n",
    "s=pd.Series(a)\n",
    "print(s)"
   ]
  },
  {
   "cell_type": "code",
   "execution_count": 11,
   "id": "bbe0f4a3",
   "metadata": {},
   "outputs": [
    {
     "name": "stdout",
     "output_type": "stream",
     "text": [
      "a    1\n",
      "b    0\n",
      "c    4\n",
      "d    8\n",
      "e    3\n",
      "dtype: int64\n"
     ]
    }
   ],
   "source": [
    "#we can also specify indexes using index function\n",
    "s=pd.Series(a,index=['a','b','c','d','e'])\n",
    "print(s)"
   ]
  },
  {
   "cell_type": "code",
   "execution_count": 14,
   "id": "5f9c68fc",
   "metadata": {},
   "outputs": [
    {
     "name": "stdout",
     "output_type": "stream",
     "text": [
      "1\n",
      "0\n"
     ]
    }
   ],
   "source": [
    "print(s['a'])\n",
    "print(s['b'])"
   ]
  },
  {
   "cell_type": "code",
   "execution_count": 20,
   "id": "8afe94ed",
   "metadata": {},
   "outputs": [
    {
     "name": "stdout",
     "output_type": "stream",
     "text": [
      "a    1\n",
      "e    0\n",
      "f    2\n",
      "g    3\n",
      "dtype: int64\n",
      "2\n",
      "3\n"
     ]
    }
   ],
   "source": [
    "dict={\"a\":1,\"e\":0,\"f\":2,\"g\":3}\n",
    "s=pd.Series(dict)\n",
    "print(s)\n",
    "print(s['f'])\n",
    "print(s['g'])"
   ]
  },
  {
   "cell_type": "code",
   "execution_count": 9,
   "id": "c3e04fe7",
   "metadata": {},
   "outputs": [
    {
     "name": "stdout",
     "output_type": "stream",
     "text": [
      "      name  age\n",
      "0    bhanu   12\n",
      "1  lavanya   16\n",
      "2    potti   10\n"
     ]
    }
   ],
   "source": [
    "#Dataframe's are like multidimensional arrays \n",
    "import pandas as pd\n",
    "data_set={\"name\":[\"bhanu\",\"lavanya\",\"potti\"],\"age\":[12,16,10]}\n",
    "df=pd.DataFrame(data_set)\n",
    "print(df)"
   ]
  },
  {
   "cell_type": "code",
   "execution_count": 10,
   "id": "2319192a",
   "metadata": {},
   "outputs": [
    {
     "data": {
      "text/plain": [
       "name    lavanya\n",
       "age          16\n",
       "Name: 1, dtype: object"
      ]
     },
     "execution_count": 10,
     "metadata": {},
     "output_type": "execute_result"
    }
   ],
   "source": [
    "#loc can be used to display row based on index\n",
    "df.loc[1]"
   ]
  },
  {
   "cell_type": "code",
   "execution_count": 17,
   "id": "48642fa8",
   "metadata": {},
   "outputs": [
    {
     "name": "stdout",
     "output_type": "stream",
     "text": [
      "      name  age\n",
      "0    bhanu   12\n",
      "1  lavanya   16\n",
      "2    potti   10\n"
     ]
    }
   ],
   "source": [
    "print(df.loc[0:2])"
   ]
  },
  {
   "cell_type": "code",
   "execution_count": 14,
   "id": "ed4a4878",
   "metadata": {},
   "outputs": [
    {
     "name": "stdout",
     "output_type": "stream",
     "text": [
      "      name  age\n",
      "0    bhanu   12\n",
      "1  lavanya   16\n",
      "2    potti   10\n"
     ]
    }
   ],
   "source": [
    "print(df.loc[:2])"
   ]
  },
  {
   "cell_type": "code",
   "execution_count": 19,
   "id": "a86d6893",
   "metadata": {},
   "outputs": [
    {
     "name": "stdout",
     "output_type": "stream",
     "text": [
      "    name  age\n",
      "0  bhanu   12\n",
      "2  potti   10\n"
     ]
    }
   ],
   "source": [
    "print(df.loc[[0,2]])"
   ]
  },
  {
   "cell_type": "code",
   "execution_count": 20,
   "id": "60227e43",
   "metadata": {},
   "outputs": [
    {
     "name": "stdout",
     "output_type": "stream",
     "text": [
      "      name  age\n",
      "a    bhanu   12\n",
      "b  lavanya   16\n",
      "c    potti   10\n"
     ]
    }
   ],
   "source": [
    "df=pd.DataFrame(data_set,index=['a','b','c'])\n",
    "print(df)"
   ]
  },
  {
   "cell_type": "code",
   "execution_count": 21,
   "id": "72c36d9d",
   "metadata": {},
   "outputs": [
    {
     "name": "stdout",
     "output_type": "stream",
     "text": [
      "    name  age\n",
      "a  bhanu   12\n",
      "c  potti   10\n"
     ]
    }
   ],
   "source": [
    "print(df.loc[['a','c']])"
   ]
  },
  {
   "cell_type": "code",
   "execution_count": 22,
   "id": "f8c1693f",
   "metadata": {},
   "outputs": [
    {
     "name": "stdout",
     "output_type": "stream",
     "text": [
      "  name   age  marks gender   dept\n",
      "0    a  16.0     98    NaN    cse\n",
      "1    b   NaN     91      m    ece\n",
      "2    c  10.0     90      f   mech\n",
      "3  NaN  19.0     88      f  civil\n",
      "4    f   NaN     98      m    eee\n",
      "5    k  18.0     77      m   mech\n",
      "6    y   9.0     80      m    cse\n",
      "7    i   7.0     85      f    cse\n",
      "8    l  17.0     72    NaN    eee\n",
      "9    h  14.0     64      m    NaN\n"
     ]
    }
   ],
   "source": [
    "df=pd.read_csv(\"sample1.csv\")\n",
    "print(df)"
   ]
  },
  {
   "cell_type": "code",
   "execution_count": 25,
   "id": "7b4432b0",
   "metadata": {},
   "outputs": [
    {
     "name": "stdout",
     "output_type": "stream",
     "text": [
      "  name   age  marks gender   dept\n",
      "0    a  16.0     98    NaN    cse\n",
      "1    b   NaN     91      m    ece\n",
      "2    c  10.0     90      f   mech\n",
      "3  NaN  19.0     88      f  civil\n",
      "4    f   NaN     98      m    eee\n",
      "5    k  18.0     77      m   mech\n",
      "6    y   9.0     80      m    cse\n",
      "7    i   7.0     85      f    cse\n",
      "8    l  17.0     72    NaN    eee\n",
      "9    h  14.0     64      m    NaN\n"
     ]
    }
   ],
   "source": [
    "#if we have large dataset than pandas will display first and last five rows ,\n",
    "#so if we use to_string function it can display all rows\n",
    "print(df.to_string())"
   ]
  },
  {
   "cell_type": "code",
   "execution_count": 26,
   "id": "a629f34d",
   "metadata": {},
   "outputs": [
    {
     "name": "stdout",
     "output_type": "stream",
     "text": [
      "  name   age  marks gender  dept\n",
      "0    a  16.0     98    NaN   cse\n",
      "1    b   NaN     91      m   ece\n",
      "2    c  10.0     90      f  mech\n"
     ]
    }
   ],
   "source": [
    "#head function can be used to display top five rows defaulty,you can also specify no of rows\n",
    "#tail function can display last five rows defaultly\n",
    "print(df.head(3))"
   ]
  },
  {
   "cell_type": "code",
   "execution_count": 27,
   "id": "2adf7340",
   "metadata": {},
   "outputs": [
    {
     "name": "stdout",
     "output_type": "stream",
     "text": [
      "  name   age  marks gender dept\n",
      "8    l  17.0     72    NaN  eee\n",
      "9    h  14.0     64      m  NaN\n"
     ]
    }
   ],
   "source": [
    "print(df.tail(2))"
   ]
  },
  {
   "cell_type": "code",
   "execution_count": 28,
   "id": "e0a0f2f3",
   "metadata": {},
   "outputs": [
    {
     "name": "stdout",
     "output_type": "stream",
     "text": [
      "  name   age  marks gender   dept\n",
      "0    a  16.0     98    NaN    cse\n",
      "1    b   NaN     91      m    ece\n",
      "2    c  10.0     90      f   mech\n",
      "3  NaN  19.0     88      f  civil\n",
      "4    f   NaN     98      m    eee\n"
     ]
    }
   ],
   "source": [
    "print(df.head())"
   ]
  },
  {
   "cell_type": "code",
   "execution_count": 29,
   "id": "fe6d7e62",
   "metadata": {},
   "outputs": [
    {
     "name": "stdout",
     "output_type": "stream",
     "text": [
      "  name   age  marks gender  dept\n",
      "5    k  18.0     77      m  mech\n",
      "6    y   9.0     80      m   cse\n",
      "7    i   7.0     85      f   cse\n",
      "8    l  17.0     72    NaN   eee\n",
      "9    h  14.0     64      m   NaN\n"
     ]
    }
   ],
   "source": [
    "print(df.tail())"
   ]
  },
  {
   "cell_type": "code",
   "execution_count": 30,
   "id": "ed7e6e8d",
   "metadata": {},
   "outputs": [
    {
     "name": "stdout",
     "output_type": "stream",
     "text": [
      "<class 'pandas.core.frame.DataFrame'>\n",
      "RangeIndex: 10 entries, 0 to 9\n",
      "Data columns (total 5 columns):\n",
      " #   Column  Non-Null Count  Dtype  \n",
      "---  ------  --------------  -----  \n",
      " 0   name    9 non-null      object \n",
      " 1   age     8 non-null      float64\n",
      " 2   marks   10 non-null     int64  \n",
      " 3   gender  8 non-null      object \n",
      " 4   dept    9 non-null      object \n",
      "dtypes: float64(1), int64(1), object(3)\n",
      "memory usage: 528.0+ bytes\n",
      "None\n"
     ]
    }
   ],
   "source": [
    "#this function will give information about dataset\n",
    "print(df.info())"
   ]
  },
  {
   "cell_type": "code",
   "execution_count": 31,
   "id": "b48bf929",
   "metadata": {},
   "outputs": [
    {
     "name": "stdout",
     "output_type": "stream",
     "text": [
      "  name   age  marks gender   dept\n",
      "0    a  16.0     98    NaN    cse\n",
      "1    b   NaN     91      m    ece\n",
      "2    c  10.0     90      f   mech\n",
      "3  NaN  19.0     88      f  civil\n",
      "4    f   NaN     98      m    eee\n",
      "5    k  18.0     77      m   mech\n",
      "6    y   9.0     80      m    cse\n",
      "7    i   7.0     85      f    cse\n",
      "8    l  17.0     72    NaN    eee\n",
      "9    h  14.0     64      m    NaN\n"
     ]
    }
   ],
   "source": [
    "print(df)"
   ]
  },
  {
   "cell_type": "code",
   "execution_count": 32,
   "id": "8bb4356a",
   "metadata": {},
   "outputs": [
    {
     "name": "stdout",
     "output_type": "stream",
     "text": [
      "0      a\n",
      "1      b\n",
      "2      c\n",
      "3    NaN\n",
      "4      f\n",
      "5      k\n",
      "6      y\n",
      "7      i\n",
      "8      l\n",
      "9      h\n",
      "Name: name, dtype: object\n"
     ]
    }
   ],
   "source": [
    "print(df[\"name\"])"
   ]
  },
  {
   "cell_type": "code",
   "execution_count": 33,
   "id": "88995057",
   "metadata": {},
   "outputs": [
    {
     "name": "stdout",
     "output_type": "stream",
     "text": [
      "  name   dept\n",
      "0    a    cse\n",
      "1    b    ece\n",
      "2    c   mech\n",
      "3  NaN  civil\n",
      "4    f    eee\n",
      "5    k   mech\n",
      "6    y    cse\n",
      "7    i    cse\n",
      "8    l    eee\n",
      "9    h    NaN\n"
     ]
    }
   ],
   "source": [
    "print(df[['name','dept']])"
   ]
  },
  {
   "cell_type": "code",
   "execution_count": 35,
   "id": "b44cdc8a",
   "metadata": {},
   "outputs": [
    {
     "name": "stdout",
     "output_type": "stream",
     "text": [
      "19.0\n",
      "7.0\n"
     ]
    }
   ],
   "source": [
    "print(df['age'].max())\n",
    "print(df['age'].min())"
   ]
  },
  {
   "cell_type": "code",
   "execution_count": 36,
   "id": "e4f69f6e",
   "metadata": {},
   "outputs": [
    {
     "name": "stdout",
     "output_type": "stream",
     "text": [
      "nan\n"
     ]
    }
   ],
   "source": [
    "print(df.loc[3,'name'])"
   ]
  },
  {
   "cell_type": "code",
   "execution_count": 49,
   "id": "4f2c1df8",
   "metadata": {},
   "outputs": [],
   "source": [
    "df[\"salary\"]=0"
   ]
  },
  {
   "cell_type": "code",
   "execution_count": 50,
   "id": "35e0fdc0",
   "metadata": {},
   "outputs": [
    {
     "data": {
      "text/html": [
       "<div>\n",
       "<style scoped>\n",
       "    .dataframe tbody tr th:only-of-type {\n",
       "        vertical-align: middle;\n",
       "    }\n",
       "\n",
       "    .dataframe tbody tr th {\n",
       "        vertical-align: top;\n",
       "    }\n",
       "\n",
       "    .dataframe thead th {\n",
       "        text-align: right;\n",
       "    }\n",
       "</style>\n",
       "<table border=\"1\" class=\"dataframe\">\n",
       "  <thead>\n",
       "    <tr style=\"text-align: right;\">\n",
       "      <th></th>\n",
       "      <th>name</th>\n",
       "      <th>age</th>\n",
       "      <th>marks</th>\n",
       "      <th>gender</th>\n",
       "      <th>dept</th>\n",
       "      <th>salary</th>\n",
       "    </tr>\n",
       "  </thead>\n",
       "  <tbody>\n",
       "    <tr>\n",
       "      <th>0</th>\n",
       "      <td>a</td>\n",
       "      <td>16.0</td>\n",
       "      <td>98</td>\n",
       "      <td>NaN</td>\n",
       "      <td>cse</td>\n",
       "      <td>0</td>\n",
       "    </tr>\n",
       "    <tr>\n",
       "      <th>1</th>\n",
       "      <td>b</td>\n",
       "      <td>NaN</td>\n",
       "      <td>91</td>\n",
       "      <td>m</td>\n",
       "      <td>ece</td>\n",
       "      <td>0</td>\n",
       "    </tr>\n",
       "    <tr>\n",
       "      <th>2</th>\n",
       "      <td>c</td>\n",
       "      <td>10.0</td>\n",
       "      <td>90</td>\n",
       "      <td>f</td>\n",
       "      <td>mech</td>\n",
       "      <td>0</td>\n",
       "    </tr>\n",
       "    <tr>\n",
       "      <th>3</th>\n",
       "      <td>NaN</td>\n",
       "      <td>19.0</td>\n",
       "      <td>88</td>\n",
       "      <td>f</td>\n",
       "      <td>civil</td>\n",
       "      <td>0</td>\n",
       "    </tr>\n",
       "    <tr>\n",
       "      <th>4</th>\n",
       "      <td>f</td>\n",
       "      <td>NaN</td>\n",
       "      <td>98</td>\n",
       "      <td>m</td>\n",
       "      <td>eee</td>\n",
       "      <td>0</td>\n",
       "    </tr>\n",
       "    <tr>\n",
       "      <th>5</th>\n",
       "      <td>k</td>\n",
       "      <td>18.0</td>\n",
       "      <td>77</td>\n",
       "      <td>m</td>\n",
       "      <td>mech</td>\n",
       "      <td>0</td>\n",
       "    </tr>\n",
       "    <tr>\n",
       "      <th>6</th>\n",
       "      <td>y</td>\n",
       "      <td>9.0</td>\n",
       "      <td>80</td>\n",
       "      <td>m</td>\n",
       "      <td>cse</td>\n",
       "      <td>0</td>\n",
       "    </tr>\n",
       "    <tr>\n",
       "      <th>7</th>\n",
       "      <td>i</td>\n",
       "      <td>7.0</td>\n",
       "      <td>85</td>\n",
       "      <td>f</td>\n",
       "      <td>cse</td>\n",
       "      <td>0</td>\n",
       "    </tr>\n",
       "    <tr>\n",
       "      <th>8</th>\n",
       "      <td>l</td>\n",
       "      <td>17.0</td>\n",
       "      <td>72</td>\n",
       "      <td>NaN</td>\n",
       "      <td>eee</td>\n",
       "      <td>0</td>\n",
       "    </tr>\n",
       "    <tr>\n",
       "      <th>9</th>\n",
       "      <td>h</td>\n",
       "      <td>14.0</td>\n",
       "      <td>64</td>\n",
       "      <td>m</td>\n",
       "      <td>NaN</td>\n",
       "      <td>0</td>\n",
       "    </tr>\n",
       "  </tbody>\n",
       "</table>\n",
       "</div>"
      ],
      "text/plain": [
       "  name   age  marks gender   dept  salary\n",
       "0    a  16.0     98    NaN    cse       0\n",
       "1    b   NaN     91      m    ece       0\n",
       "2    c  10.0     90      f   mech       0\n",
       "3  NaN  19.0     88      f  civil       0\n",
       "4    f   NaN     98      m    eee       0\n",
       "5    k  18.0     77      m   mech       0\n",
       "6    y   9.0     80      m    cse       0\n",
       "7    i   7.0     85      f    cse       0\n",
       "8    l  17.0     72    NaN    eee       0\n",
       "9    h  14.0     64      m    NaN       0"
      ]
     },
     "execution_count": 50,
     "metadata": {},
     "output_type": "execute_result"
    }
   ],
   "source": [
    "df"
   ]
  },
  {
   "cell_type": "code",
   "execution_count": 52,
   "id": "9c39e796",
   "metadata": {},
   "outputs": [
    {
     "data": {
      "text/plain": [
       "0    False\n",
       "1    False\n",
       "2    False\n",
       "3    False\n",
       "4    False\n",
       "5    False\n",
       "6    False\n",
       "7    False\n",
       "8    False\n",
       "9    False\n",
       "Name: age, dtype: bool"
      ]
     },
     "execution_count": 52,
     "metadata": {},
     "output_type": "execute_result"
    }
   ],
   "source": [
    "df.age>30 && df.name="
   ]
  },
  {
   "cell_type": "code",
   "execution_count": null,
   "id": "f573424b",
   "metadata": {},
   "outputs": [],
   "source": []
  }
 ],
 "metadata": {
  "kernelspec": {
   "display_name": "Python 3 (ipykernel)",
   "language": "python",
   "name": "python3"
  },
  "language_info": {
   "codemirror_mode": {
    "name": "ipython",
    "version": 3
   },
   "file_extension": ".py",
   "mimetype": "text/x-python",
   "name": "python",
   "nbconvert_exporter": "python",
   "pygments_lexer": "ipython3",
   "version": "3.9.12"
  }
 },
 "nbformat": 4,
 "nbformat_minor": 5
}
