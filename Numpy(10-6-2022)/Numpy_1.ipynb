{
 "cells": [
  {
   "cell_type": "code",
   "execution_count": 2,
   "id": "851fdd63",
   "metadata": {},
   "outputs": [],
   "source": [
    "#numpy is a python library ,used to work with arrays\n",
    "#created in 2005\n",
    "#these functions can be used in linear algebra and matrices\n",
    "#free \n",
    "#numpy stands for numerical python\n",
    "#in python we have list's concept but these lists are slow to process than numpy introduce arrays concept\n",
    "#these arrays are very fast to access because the data is distributed in continuous memory location unlike lists"
   ]
  },
  {
   "cell_type": "code",
   "execution_count": 4,
   "id": "9a722a47",
   "metadata": {},
   "outputs": [
    {
     "data": {
      "text/plain": [
       "array([10, 20, 30])"
      ]
     },
     "execution_count": 4,
     "metadata": {},
     "output_type": "execute_result"
    }
   ],
   "source": [
    "#we pass list\n",
    "import numpy as np\n",
    "arr=np.array([10,20,30])\n",
    "arr"
   ]
  },
  {
   "cell_type": "code",
   "execution_count": 5,
   "id": "d4bc004f",
   "metadata": {},
   "outputs": [
    {
     "data": {
      "text/plain": [
       "'1.21.5'"
      ]
     },
     "execution_count": 5,
     "metadata": {},
     "output_type": "execute_result"
    }
   ],
   "source": [
    "np.__version__"
   ]
  },
  {
   "cell_type": "code",
   "execution_count": 6,
   "id": "585cc28b",
   "metadata": {},
   "outputs": [
    {
     "data": {
      "text/plain": [
       "numpy.ndarray"
      ]
     },
     "execution_count": 6,
     "metadata": {},
     "output_type": "execute_result"
    }
   ],
   "source": [
    "type(arr)"
   ]
  },
  {
   "cell_type": "code",
   "execution_count": 17,
   "id": "78ea1f43",
   "metadata": {},
   "outputs": [
    {
     "data": {
      "text/plain": [
       "array([10, 20, 30])"
      ]
     },
     "execution_count": 17,
     "metadata": {},
     "output_type": "execute_result"
    }
   ],
   "source": [
    "#we pass tuple\n",
    "import numpy as np\n",
    "arr=np.array((10,20,30))\n",
    "arr"
   ]
  },
  {
   "cell_type": "code",
   "execution_count": 18,
   "id": "5aac1b99",
   "metadata": {},
   "outputs": [
    {
     "data": {
      "text/plain": [
       "array(10)"
      ]
     },
     "execution_count": 18,
     "metadata": {},
     "output_type": "execute_result"
    }
   ],
   "source": [
    "#0-d array contains single element\n",
    "a=np.array(10)\n",
    "a"
   ]
  },
  {
   "cell_type": "code",
   "execution_count": 19,
   "id": "e987eb31",
   "metadata": {},
   "outputs": [
    {
     "data": {
      "text/plain": [
       "array([10, 20, 30])"
      ]
     },
     "execution_count": 19,
     "metadata": {},
     "output_type": "execute_result"
    }
   ],
   "source": [
    "#1-d -collection of 0-d arrays\n",
    "import numpy as np\n",
    "a1=np.array([10,20,30])\n",
    "a1"
   ]
  },
  {
   "cell_type": "code",
   "execution_count": 20,
   "id": "b4bf0bdc",
   "metadata": {},
   "outputs": [
    {
     "name": "stdout",
     "output_type": "stream",
     "text": [
      "[[1 2 3]\n",
      " [4 5 6]\n",
      " [7 8 9]]\n"
     ]
    }
   ],
   "source": [
    "#2-d a[3][3]\n",
    "b=np.array([[1,2,3],[4,5,6],[7,8,9]])\n",
    "print(b)"
   ]
  },
  {
   "cell_type": "code",
   "execution_count": 21,
   "id": "03e5ff8d",
   "metadata": {},
   "outputs": [
    {
     "name": "stdout",
     "output_type": "stream",
     "text": [
      "[[[ 1  2  3]\n",
      "  [ 4  5  6]]\n",
      "\n",
      " [[ 7  8  9]\n",
      "  [10 11 12]]]\n"
     ]
    }
   ],
   "source": [
    "#3-d\n",
    "c=np.array([[[1,2,3],[4,5,6]],[[7,8,9],[10,11,12]]])\n",
    "print(c)"
   ]
  },
  {
   "cell_type": "code",
   "execution_count": 22,
   "id": "d90ec6b7",
   "metadata": {},
   "outputs": [
    {
     "name": "stdout",
     "output_type": "stream",
     "text": [
      "0\n",
      "1\n",
      "2\n",
      "3\n"
     ]
    }
   ],
   "source": [
    "#ndim attributes says how many dimensions present in a array\n",
    "print(a.ndim)\n",
    "print(a1.ndim)\n",
    "print(b.ndim)\n",
    "print(c.ndim)"
   ]
  },
  {
   "cell_type": "code",
   "execution_count": 28,
   "id": "ea9419d7",
   "metadata": {},
   "outputs": [
    {
     "name": "stdout",
     "output_type": "stream",
     "text": [
      "[10 20 30]\n",
      "10\n",
      "20\n",
      "30\n",
      "40\n"
     ]
    }
   ],
   "source": [
    "#array indexing-means access elements with the help of index\n",
    "#access 1-d array elements\n",
    "print(arr)\n",
    "print(arr[0])\n",
    "print(arr[1])\n",
    "print(arr[2])\n",
    "print(arr[0]+arr[2])"
   ]
  },
  {
   "cell_type": "code",
   "execution_count": 31,
   "id": "59f4c83d",
   "metadata": {},
   "outputs": [
    {
     "name": "stdout",
     "output_type": "stream",
     "text": [
      "[[1 2 3]\n",
      " [4 5 6]\n",
      " [7 8 9]]\n",
      "6\n",
      "7\n"
     ]
    }
   ],
   "source": [
    "#access 2-d array elements\n",
    "#r-r0,r1,r2 c-c0,c1,c2\n",
    "print(b)\n",
    "print(b[1,2])\n",
    "print(b[2,0])"
   ]
  },
  {
   "cell_type": "code",
   "execution_count": 34,
   "id": "dc0acc39",
   "metadata": {},
   "outputs": [
    {
     "name": "stdout",
     "output_type": "stream",
     "text": [
      "[[[ 1  2  3]\n",
      "  [ 4  5  6]]\n",
      "\n",
      " [[ 7  8  9]\n",
      "  [10 11 12]]]\n",
      "4\n",
      "11\n"
     ]
    }
   ],
   "source": [
    "##access 3-d array elements\n",
    "print(c)\n",
    "print(c[0,1,0])\n",
    "print(c[1,1,1])"
   ]
  },
  {
   "cell_type": "code",
   "execution_count": 38,
   "id": "986a91c3",
   "metadata": {},
   "outputs": [
    {
     "name": "stdout",
     "output_type": "stream",
     "text": [
      "[[1 2 3]\n",
      " [4 5 6]\n",
      " [7 8 9]]\n",
      "8\n",
      "4\n"
     ]
    }
   ],
   "source": [
    "#use negative index for accessing from end\n",
    "print(b)\n",
    "print(b[2,-2])\n",
    "print(b[1,-3])"
   ]
  },
  {
   "cell_type": "code",
   "execution_count": 48,
   "id": "1727a9cb",
   "metadata": {},
   "outputs": [
    {
     "name": "stdout",
     "output_type": "stream",
     "text": [
      "[1 2 4 6 9 0 3 5]\n",
      "[2 4 6 9]\n",
      "[2 4 6 9 0 3 5]\n",
      "[1 2 4 6 9]\n",
      "[1 2 4 6 9 0 3]\n",
      "[1 2 4 6 9 0 3 5]\n",
      "[4 6 9 0 3]\n",
      "[1 4 9 3]\n",
      "[1 4 9 3]\n"
     ]
    }
   ],
   "source": [
    "arr1=np.array([1,2,4,6,9,0,3,5])\n",
    "print(arr1)\n",
    "print(arr1[1:5])\n",
    "print(arr1[1:])\n",
    "print(arr1[:5])\n",
    "print(arr1[:-1])\n",
    "print(arr1[-8:])\n",
    "print(arr1[-6:-1])\n",
    "print(arr1[0::2])\n",
    "print(arr1[::2])"
   ]
  },
  {
   "cell_type": "code",
   "execution_count": 50,
   "id": "49c84fcc",
   "metadata": {},
   "outputs": [
    {
     "name": "stdout",
     "output_type": "stream",
     "text": [
      "int32\n"
     ]
    }
   ],
   "source": [
    "#returns datatype of array\n",
    "print(arr1.dtype)"
   ]
  },
  {
   "cell_type": "code",
   "execution_count": 52,
   "id": "ac07c2d3",
   "metadata": {},
   "outputs": [
    {
     "name": "stdout",
     "output_type": "stream",
     "text": [
      "|S1\n"
     ]
    }
   ],
   "source": [
    "#define datatype\n",
    "arr=np.array([1,2,3],dtype='S')\n",
    "print(arr.dtype)"
   ]
  },
  {
   "cell_type": "raw",
   "id": "f879b0d4",
   "metadata": {},
   "source": [
    "import numpy as  np\n"
   ]
  },
  {
   "cell_type": "code",
   "execution_count": null,
   "id": "171072b2",
   "metadata": {},
   "outputs": [],
   "source": []
  }
 ],
 "metadata": {
  "kernelspec": {
   "display_name": "Python 3 (ipykernel)",
   "language": "python",
   "name": "python3"
  },
  "language_info": {
   "codemirror_mode": {
    "name": "ipython",
    "version": 3
   },
   "file_extension": ".py",
   "mimetype": "text/x-python",
   "name": "python",
   "nbconvert_exporter": "python",
   "pygments_lexer": "ipython3",
   "version": "3.9.12"
  }
 },
 "nbformat": 4,
 "nbformat_minor": 5
}
